{
 "cells": [
  {
   "cell_type": "markdown",
   "metadata": {},
   "source": [
    "# DREAM5"
   ]
  },
  {
   "cell_type": "markdown",
   "metadata": {},
   "source": [
    "# Data Exploration"
   ]
  },
  {
   "cell_type": "markdown",
   "metadata": {},
   "source": [
    "First, I want to assert a couple of statements:\n",
    "- The set of regulating genes present in the reference network is a subset of the set of transcription factors.\n",
    "- There are elements of the set of transcription factors in the set of the reference network's target genes. "
   ]
  },
  {
   "cell_type": "markdown",
   "metadata": {},
   "source": [
    "We need to encapsulate the data wrangling for each source of datasets. Here (TODO: Subject to change), the source of datasets is either 'DREAM5' or 'BEELINE'."
   ]
  },
  {
   "cell_type": "code",
   "execution_count": 37,
   "metadata": {},
   "outputs": [],
   "source": [
    "from typing import Literal\n",
    "NETWORK_ID : Literal[1, 3, 4] = 3"
   ]
  },
  {
   "cell_type": "code",
   "execution_count": 58,
   "metadata": {},
   "outputs": [],
   "source": [
    "from pathlib import Path\n",
    "from typing import List, Dict\n",
    "import numpy as np\n",
    "import pandas as pd\n",
    "from numpy.typing import NDArray\n",
    "\n",
    "\n",
    "class Dream5GRNDataset:\n",
    "    def __init__(\n",
    "        self,\n",
    "        root : Path,\n",
    "        network_id: int,\n",
    "    ):\n",
    "        self.network_id_to_directory_name = {\n",
    "            1: Path(\"Network 1 - in silico\"),\n",
    "            # 2: Path(\"Network 2 - S. aureus\"), # Not used for evaluation\n",
    "            3: Path(\"Network 3 - E. coli\"),\n",
    "            4: Path(\"Network 4 - S. cerevisiae\"),\n",
    "        }\n",
    "\n",
    "        self.network_dir = self.network_id_to_directory_name[NETWORK_ID]\n",
    "\n",
    "        self.root: Path = Path(\"../data/raw/syn2787209/Gene Network Inference\")\n",
    "        self.training_data_dir = self.root / \"training data\"\n",
    "        self.reference_network_dir = self.root / \"test data\"\n",
    "\n",
    "        self.gene_expression_path = (\n",
    "            self.training_data_dir\n",
    "            / self.network_dir\n",
    "            / f\"net{network_id}_expression_data.tsv\"\n",
    "        )\n",
    "        self.id_to_name_path = (\n",
    "            self.training_data_dir / self.network_dir / f\"net{network_id}_gene_ids.tsv\"\n",
    "        )\n",
    "        self.transcription_factors_path = (\n",
    "            self.training_data_dir\n",
    "            / self.network_dir\n",
    "            / f\"net{network_id}_transcription_factors.tsv\"\n",
    "        )\n",
    "        self.network_data_path = (\n",
    "            self.reference_network_dir\n",
    "            / f\"DREAM5_NetworkInference_GoldStandard_{str(self.network_dir).replace(f'Network {network_id}', f'Network{network_id}')}.tsv\"\n",
    "        )\n",
    "\n",
    "        self.gene_expressions = pd.read_csv(\n",
    "            self.gene_expression_path,\n",
    "            sep=\"\\t\",\n",
    "            dtype=np.float32,\n",
    "        )\n",
    "        self.gene_ids = pd.read_csv(\n",
    "            self.id_to_name_path,\n",
    "            sep=\"\\t\",\n",
    "            dtype=str,\n",
    "        )\n",
    "        self.gene_ids = dict(self.gene_ids.values)\n",
    "        self.transcription_factors = pd.read_csv(\n",
    "            self.transcription_factors_path,\n",
    "            sep=\"\\t\",\n",
    "            header=None,\n",
    "            dtype=str,\n",
    "        )\n",
    "\n",
    "        self.ref_network = pd.read_csv(\n",
    "            self.network_data_path,\n",
    "            sep=\"\\t\",\n",
    "            header=None,\n",
    "            dtype={\n",
    "                0: str,\n",
    "                1: str,\n",
    "                2: float,\n",
    "            },\n",
    "        )\n",
    "        \n",
    "        self.ref_network.columns = [\n",
    "            \"regulator_gene\",\n",
    "            \"target_gene\",\n",
    "            \"ground_truth\",\n",
    "        ]\n",
    "        self.transcription_factors = self.transcription_factors[0]\n",
    "        self.transcription_factors.name = \"transcription_factors\"\n",
    "\n",
    "        self.gene_expressions = Dream5GRNDataset._map_gene_ids_to_names_for_expression_data(\n",
    "            self.gene_expressions, self.gene_ids\n",
    "        )\n",
    "        self.ref_network = Dream5GRNDataset._map_gene_ids_to_names_for_network_data(\n",
    "            self.ref_network, self.gene_ids\n",
    "        )\n",
    "        self.transcription_factors = Dream5GRNDataset._map_gene_ids_to_names_for_transcription_factors(\n",
    "            self.transcription_factors, self.gene_ids\n",
    "        )\n",
    "\n",
    "    @staticmethod\n",
    "    def _map_gene_ids_to_names_for_expression_data(\n",
    "        gene_expressions: pd.DataFrame,\n",
    "        gene_ids: Dict[str, str],\n",
    "    ) -> pd.DataFrame:\n",
    "        gene_expressions.columns = gene_expressions.columns.map(gene_ids)\n",
    "        return gene_expressions\n",
    "\n",
    "    @staticmethod\n",
    "    def _map_gene_ids_to_names_for_network_data(\n",
    "        network: pd.DataFrame, gene_ids: Dict[str, str]\n",
    "    ) -> pd.DataFrame:\n",
    "        network[\"regulator_gene\"] = network[\"regulator_gene\"].map(gene_ids)\n",
    "        network[\"target_gene\"] = network[\"target_gene\"].map(gene_ids)\n",
    "        return network\n",
    "\n",
    "    @staticmethod\n",
    "    def _map_gene_ids_to_names_for_transcription_factors(\n",
    "        transcription_factors: pd.Series, gene_ids: Dict[str, str]\n",
    "    ) -> pd.Series:\n",
    "        transcription_factors = transcription_factors.map(gene_ids)\n",
    "        return transcription_factors\n",
    "    \n",
    "    @staticmethod\n",
    "    def _get_transcription_factor_indices(\n",
    "        transcription_factors: pd.Series,\n",
    "    ) -> List[int]:\n",
    "        assert len(set(transcription_factors)) == len(\n",
    "            transcription_factors\n",
    "        ), \"Transcription factors are not unique\"\n",
    "        transcription_factor_indices = list(range(len(transcription_factors)))\n",
    "        return transcription_factor_indices\n",
    "\n",
    "    def get_inputs(self):\n",
    "        inputs : NDArray = self.gene_expressions.values\n",
    "        transcription_factor_indices : List[int] = (\n",
    "            Dream5GRNDataset._get_transcription_factor_indices(\n",
    "                self.transcription_factors\n",
    "            )\n",
    "        )\n",
    "        return inputs, transcription_factor_indices\n"
   ]
  },
  {
   "cell_type": "code",
   "execution_count": 68,
   "metadata": {},
   "outputs": [],
   "source": [
    "ROOT = Path(\"../data/raw/syn2787209/Gene Network Inference\")\n",
    "NETWORK_ID = 1\n",
    "\n",
    "dataset = Dream5GRNDataset(\n",
    "    ROOT,\n",
    "    NETWORK_ID,\n",
    ")\n",
    "ref_network, transcription_factors = dataset.ref_network, dataset.transcription_factors\n",
    "inputs, transcription_factor_indices = dataset.get_inputs()"
   ]
  },
  {
   "cell_type": "code",
   "execution_count": 69,
   "metadata": {},
   "outputs": [
    {
     "name": "stdout",
     "output_type": "stream",
     "text": [
      "Number of TFs:  195\n",
      "All transcription factor entries are unique: True\n",
      "Number of unique regulators in ref network:  178\n",
      "All regulator genes in the reference network are unique: True\n",
      "Set of regulator genes present in the reference network is subset of set of TFs: True\n",
      "Number of unique target genes in ref network:  1565\n",
      "Set of regulator genes in the reference network that are not TFs: set()\n",
      "Transciption factors are present in the set of target genes: True\n"
     ]
    }
   ],
   "source": [
    "# Check if the regulators and targets in the reference network are a subset of the transcription factors\n",
    "unique_tfs = set(transcription_factors.unique())\n",
    "unique_regulators_ref_network = set(ref_network[\"regulator_gene\"].unique())\n",
    "unique_targets_ref_network = set(ref_network[\"target_gene\"].unique())\n",
    "\n",
    "print(\"Number of TFs: \", len(unique_tfs))\n",
    "print(\n",
    "    f\"All transcription factor entries are unique: {len(unique_tfs) == len(transcription_factors)}\"\n",
    ")\n",
    "print(\n",
    "    \"Number of unique regulators in ref network: \",\n",
    "    len(unique_regulators_ref_network),\n",
    ")\n",
    "print(\n",
    "    f\"All regulator genes in the reference network are unique: {len(unique_regulators_ref_network) == len(ref_network['regulator_gene'].unique())}\"\n",
    ")\n",
    "print(\n",
    "    f\"Set of regulator genes present in the reference network is subset of set of TFs: {unique_regulators_ref_network.issubset(unique_tfs)}\"\n",
    ")\n",
    "print(\n",
    "    \"Number of unique target genes in ref network: \",\n",
    "    len(unique_targets_ref_network),\n",
    ")\n",
    "\n",
    "print(\n",
    "    f\"Set of regulator genes in the reference network that are not TFs: {unique_regulators_ref_network.difference(unique_tfs)}\"\n",
    ")\n",
    "print(\n",
    "    f\"Transciption factors are present in the set of target genes: {any(unique_tfs.intersection(unique_targets_ref_network))}\"\n",
    ")"
   ]
  },
  {
   "cell_type": "code",
   "execution_count": 70,
   "metadata": {},
   "outputs": [],
   "source": [
    "from fedgenie3.genie3.modeling import GENIE3\n",
    "\n",
    "tree_method = \"RF\"\n",
    "tree_init_kwargs = {\n",
    "    \"n_estimators\":  100,\n",
    "    \"max_features\": 'sqrt',\n",
    "    \"random_state\": 42,\n",
    "    \"n_jobs\": -1,\n",
    "}\n",
    "genie3 = GENIE3(tree_method=tree_method, tree_init_kwargs=tree_init_kwargs)"
   ]
  },
  {
   "cell_type": "code",
   "execution_count": 71,
   "metadata": {},
   "outputs": [
    {
     "data": {
      "application/vnd.jupyter.widget-view+json": {
       "model_id": "2b5ec7263df5465abaaee9fe3642d62b",
       "version_major": 2,
       "version_minor": 0
      },
      "text/plain": [
       "Computing importances:   0%|          | 0/1643 [00:00<?, ?gene/s]"
      ]
     },
     "metadata": {},
     "output_type": "display_data"
    }
   ],
   "source": [
    "importance_matrix = genie3.compute_importances(inputs, transcription_factor_indices)"
   ]
  },
  {
   "cell_type": "code",
   "execution_count": null,
   "metadata": {},
   "outputs": [
    {
     "data": {
      "text/html": [
       "<div>\n",
       "<style scoped>\n",
       "    .dataframe tbody tr th:only-of-type {\n",
       "        vertical-align: middle;\n",
       "    }\n",
       "\n",
       "    .dataframe tbody tr th {\n",
       "        vertical-align: top;\n",
       "    }\n",
       "\n",
       "    .dataframe thead th {\n",
       "        text-align: right;\n",
       "    }\n",
       "</style>\n",
       "<table border=\"1\" class=\"dataframe\">\n",
       "  <thead>\n",
       "    <tr style=\"text-align: right;\">\n",
       "      <th></th>\n",
       "      <th>regulator_gene</th>\n",
       "      <th>target_gene</th>\n",
       "      <th>importance</th>\n",
       "    </tr>\n",
       "  </thead>\n",
       "  <tbody>\n",
       "    <tr>\n",
       "      <th>0</th>\n",
       "      <td>187</td>\n",
       "      <td>937</td>\n",
       "      <td>0.182317</td>\n",
       "    </tr>\n",
       "    <tr>\n",
       "      <th>1</th>\n",
       "      <td>83</td>\n",
       "      <td>589</td>\n",
       "      <td>0.180860</td>\n",
       "    </tr>\n",
       "    <tr>\n",
       "      <th>2</th>\n",
       "      <td>94</td>\n",
       "      <td>469</td>\n",
       "      <td>0.169391</td>\n",
       "    </tr>\n",
       "    <tr>\n",
       "      <th>3</th>\n",
       "      <td>94</td>\n",
       "      <td>1105</td>\n",
       "      <td>0.167880</td>\n",
       "    </tr>\n",
       "    <tr>\n",
       "      <th>4</th>\n",
       "      <td>83</td>\n",
       "      <td>426</td>\n",
       "      <td>0.167562</td>\n",
       "    </tr>\n",
       "    <tr>\n",
       "      <th>...</th>\n",
       "      <td>...</td>\n",
       "      <td>...</td>\n",
       "      <td>...</td>\n",
       "    </tr>\n",
       "    <tr>\n",
       "      <th>320380</th>\n",
       "      <td>72</td>\n",
       "      <td>72</td>\n",
       "      <td>0.000000</td>\n",
       "    </tr>\n",
       "    <tr>\n",
       "      <th>320381</th>\n",
       "      <td>39</td>\n",
       "      <td>39</td>\n",
       "      <td>0.000000</td>\n",
       "    </tr>\n",
       "    <tr>\n",
       "      <th>320382</th>\n",
       "      <td>19</td>\n",
       "      <td>19</td>\n",
       "      <td>0.000000</td>\n",
       "    </tr>\n",
       "    <tr>\n",
       "      <th>320383</th>\n",
       "      <td>10</td>\n",
       "      <td>10</td>\n",
       "      <td>0.000000</td>\n",
       "    </tr>\n",
       "    <tr>\n",
       "      <th>320384</th>\n",
       "      <td>0</td>\n",
       "      <td>0</td>\n",
       "      <td>0.000000</td>\n",
       "    </tr>\n",
       "  </tbody>\n",
       "</table>\n",
       "<p>320385 rows × 3 columns</p>\n",
       "</div>"
      ],
      "text/plain": [
       "        regulator_gene  target_gene  importance\n",
       "0                  187          937    0.182317\n",
       "1                   83          589    0.180860\n",
       "2                   94          469    0.169391\n",
       "3                   94         1105    0.167880\n",
       "4                   83          426    0.167562\n",
       "...                ...          ...         ...\n",
       "320380              72           72    0.000000\n",
       "320381              39           39    0.000000\n",
       "320382              19           19    0.000000\n",
       "320383              10           10    0.000000\n",
       "320384               0            0    0.000000\n",
       "\n",
       "[320385 rows x 3 columns]"
      ]
     },
     "execution_count": 72,
     "metadata": {},
     "output_type": "execute_result"
    }
   ],
   "source": [
    "gene_ranking = genie3.get_gene_ranking(importance_matrix, transcription_factor_indices)\n",
    "gene_ranking"
   ]
  },
  {
   "cell_type": "code",
   "execution_count": 73,
   "metadata": {},
   "outputs": [],
   "source": [
    "def map_gene_indices_to_names_for_network_data(network : str, gene_expressions):\n",
    "    def fn(x, gene_expressions):\n",
    "        gene_names = gene_expressions.columns\n",
    "        x = gene_names[x]\n",
    "        return x\n",
    "\n",
    "    gene_cols = ['regulator_gene', 'target_gene']\n",
    "    network[gene_cols] = network[gene_cols].apply(lambda x : fn(x, gene_expressions), axis=0)\n",
    "    return network\n",
    "\n",
    "gene_ranking = map_gene_indices_to_names_for_network_data(gene_ranking, dataset.gene_expressions)"
   ]
  },
  {
   "cell_type": "code",
   "execution_count": 76,
   "metadata": {},
   "outputs": [
    {
     "data": {
      "text/plain": [
       "{'auroc': 0.8240701674817695, 'aupr': 0.2711146041283269}"
      ]
     },
     "execution_count": 76,
     "metadata": {},
     "output_type": "execute_result"
    }
   ],
   "source": [
    "from fedgenie3.genie3.eval import evaluate\n",
    "\n",
    "evaluate(gene_ranking, ref_network)"
   ]
  }
 ],
 "metadata": {
  "kernelspec": {
   "display_name": ".venv",
   "language": "python",
   "name": "python3"
  },
  "language_info": {
   "codemirror_mode": {
    "name": "ipython",
    "version": 3
   },
   "file_extension": ".py",
   "mimetype": "text/x-python",
   "name": "python",
   "nbconvert_exporter": "python",
   "pygments_lexer": "ipython3",
   "version": "3.11.9"
  }
 },
 "nbformat": 4,
 "nbformat_minor": 2
}
