{
 "cells": [
  {
   "cell_type": "markdown",
   "metadata": {},
   "source": [
    "# DREAM5"
   ]
  },
  {
   "cell_type": "code",
   "execution_count": null,
   "metadata": {},
   "outputs": [],
   "source": [
    "from pathlib import Path\n",
    "\n",
    "RAW_DATA_ROOT = Path(\"../local_data/raw/syn2787209/Gene Network Inference\")\n",
    "PROCESSED_DATA_ROOT = Path(\"../local_data/processed/dream_five\")\n",
    "NETWORK_ID = 1"
   ]
  },
  {
   "cell_type": "code",
   "execution_count": 14,
   "metadata": {},
   "outputs": [
    {
     "name": "stdout",
     "output_type": "stream",
     "text": [
      "Processing DREAM5 data from ../data/raw/syn2787209/Gene Network Inference to ../data/processed/dream_five\n"
     ]
    },
    {
     "name": "stderr",
     "output_type": "stream",
     "text": [
      "Processing DREAM5 data: 100%|██████████| 3/3 [00:06<00:00,  2.23s/network]\n"
     ]
    }
   ],
   "source": [
    "from fedgenie3.data.preprocessing.dream_five import preprocess_dream_five\n",
    "\n",
    "preprocess_dream_five(RAW_DATA_ROOT, PROCESSED_DATA_ROOT)\n"
   ]
  },
  {
   "cell_type": "code",
   "execution_count": 15,
   "metadata": {},
   "outputs": [
    {
     "name": "stdout",
     "output_type": "stream",
     "text": [
      "Running (non-federated) GRN inference for network 1 in ../data/processed/dream_five\n"
     ]
    },
    {
     "data": {
      "application/vnd.jupyter.widget-view+json": {
       "model_id": "4148fb04cfa544489f1452c9540831e6",
       "version_major": 2,
       "version_minor": 0
      },
      "text/plain": [
       "Computing importances:   0%|          | 0/1643 [00:00<?, ?gene/s]"
      ]
     },
     "metadata": {},
     "output_type": "display_data"
    }
   ],
   "source": [
    "from fedgenie3.genie3.run import run\n",
    "\n",
    "run(PROCESSED_DATA_ROOT, NETWORK_ID)"
   ]
  }
 ],
 "metadata": {
  "kernelspec": {
   "display_name": ".venv",
   "language": "python",
   "name": "python3"
  },
  "language_info": {
   "codemirror_mode": {
    "name": "ipython",
    "version": 3
   },
   "file_extension": ".py",
   "mimetype": "text/x-python",
   "name": "python",
   "nbconvert_exporter": "python",
   "pygments_lexer": "ipython3",
   "version": "3.11.9"
  }
 },
 "nbformat": 4,
 "nbformat_minor": 2
}
